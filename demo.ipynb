{
 "cells": [
  {
   "cell_type": "markdown",
   "metadata": {},
   "source": [
    "## 准备工作"
   ]
  },
  {
   "attachments": {},
   "cell_type": "markdown",
   "metadata": {},
   "source": [
    "### 设置参数"
   ]
  },
  {
   "cell_type": "code",
   "execution_count": null,
   "metadata": {},
   "outputs": [],
   "source": [
    "# 下载过程中,除非打印提示要求,请尽量不要手动操作脚本唤起的浏览器\n",
    "\n",
    "# 请在下方双引号中填充 WoS 检索表达式\n",
    "# 检索表达式将填充在高级搜索模式界面下检索式预览框,举个例子:\n",
    "# \"SO=(Frontiers in Psychology)\" 意思严格匹配文献来源刊物名称\n",
    "# 为 Frontiers in Psychology，不区分大小写\n",
    "query_content = \"SO=(Water Research)\".upper()\n",
    "\n",
    "# 请在下方双引号中填充自动化下载浏览器实例用户数据存储文件夹路径\n",
    "# 实例可以理解为应用多开,最好指定一个空文件夹路径\n",
    "# 亦可指定一个不存在的文件夹,代码将自动为您创建\n",
    "# 不要用本文档代码同时创建多个浏览器实例并指定同一个配置文\n",
    "# 初次初始化实例成功后,建议备份一份览器实例用户数据,暂用于后续解决长时间实例化失败问题修复\n",
    "# 结束某次自动化任务，最好执行本文档底部的 “干净退出本次自动化下载浏览器实例“\n",
    "# 在 Windows 上路径可能长得不一样，不用调整\n",
    "# 所有路径都需提供绝对路径\n",
    "\n",
    "user_data_path = \"\"\n",
    "\n",
    "# WoS 引文导出下载路径\n",
    "wos_download_path = \"\"\n",
    "\n",
    "# 下载任务日志\n",
    "download_task_log_path = \"\"\n",
    "\n",
    "# 请输入你的日光图书馆帐号\n",
    "usrname = \"\"\n",
    "\n",
    "# 请输入你的日光图书馆密码\n",
    "password = \"\""
   ]
  },
  {
   "cell_type": "markdown",
   "metadata": {},
   "source": [
    "### 导入预定义函数"
   ]
  },
  {
   "cell_type": "code",
   "execution_count": null,
   "metadata": {},
   "outputs": [],
   "source": [
    "from bricklayer import aggregate_failed_records\n",
    "from bricklayer import create_chrome_driver\n",
    "from bricklayer import extract_content\n",
    "from bricklayer import find_and_move_files\n",
    "from bricklayer import get_power_law_pause\n",
    "from bricklayer import goto_wos_captcha\n",
    "from bricklayer import hover_pause_click\n",
    "from bricklayer import human_clear\n",
    "from bricklayer import human_type\n",
    "from bricklayer import initiate_sunshine_login\n",
    "from bricklayer import is_domain_present\n",
    "from bricklayer import is_new_tab_opened\n",
    "from bricklayer import is_sunshine_logged_in\n",
    "from bricklayer import login_to_channel\n",
    "from bricklayer import print_verbose\n",
    "from bricklayer import random_delay\n",
    "from bricklayer import random_scroll_partial\n",
    "from bricklayer import save_log\n",
    "from bricklayer import scroll_to_top\n",
    "from bricklayer import switch_tab_by_domain\n",
    "from bricklayer import validate_and_create_path\n",
    "from bricklayer import verify_element_value\n",
    "from bricklayer import wos_advanced_search\n",
    "from bricklayer import wos_close_pendo\n",
    "from bricklayer import wos_detective_inspector\n",
    "from bricklayer import wos_download_bricklayer\n",
    "from bricklayer import wos_download_contractor\n",
    "from bricklayer import wos_export_dialog_exists\n",
    "from bricklayer import wos_get_download_ranges\n",
    "from bricklayer import wos_goto_advanced_search\n",
    "from bricklayer import wos_log_query_task\n",
    "from bricklayer import wos_query_result_arrange\n",
    "from bricklayer import wos_query_result_count\n",
    "from bricklayer import wos_switch_english"
   ]
  },
  {
   "cell_type": "markdown",
   "metadata": {},
   "source": [
    "## 半自动化下载引文"
   ]
  },
  {
   "cell_type": "code",
   "execution_count": null,
   "metadata": {},
   "outputs": [],
   "source": [
    "# 校验路径\n",
    "validate_and_create_path(user_data_path)\n",
    "validate_and_create_path(wos_download_path)\n",
    "validate_and_create_path(download_task_log_path)"
   ]
  },
  {
   "cell_type": "code",
   "execution_count": null,
   "metadata": {},
   "outputs": [],
   "source": [
    "# 初始化自动化测试浏览器实例，若存在历史自动化浏览器用户数据\n",
    "# 则利用其恢复权限通道登陆状态，以避免权限通道方误判帐号借用而封号\n",
    "driver = login_to_channel(\n",
    "  channel=\"sunshine\",\n",
    "  username=usrname,\n",
    "  password=password,\n",
    "  user_data_path=user_data_path,\n",
    "  wos_download_path=wos_download_path)"
   ]
  },
  {
   "cell_type": "code",
   "execution_count": null,
   "metadata": {},
   "outputs": [],
   "source": [
    "# 导航到进入 Web of Science 需要的人机验证\n",
    "# 如失败,请重行执行本代码块\n",
    "# 待优化,要避免人工不小心干扰就失败\n",
    "goto_wos_captcha(driver)"
   ]
  },
  {
   "cell_type": "code",
   "execution_count": null,
   "metadata": {},
   "outputs": [],
   "source": [
    "# 切换到 Web of Science 基础查询页面\n",
    "# 用户手动 Tab 切换到代码点击链接产生的跳转,并不会作用到实例\n",
    "# 若想后续代码操作基于当前 Tab,必须用代码切换\n",
    "switch_tab_by_domain(driver=driver, domain_type=\"wos\")"
   ]
  },
  {
   "cell_type": "code",
   "execution_count": null,
   "metadata": {},
   "outputs": [],
   "source": [
    "# 参考注释选择性执行，首次执行一次后续应该不用执行\n",
    "\n",
    "# 若有 Cookie 询问弹窗，运行本代码块关闭\n",
    "# 亦可手动关闭弹窗，但不要手动接受\n",
    "wos_close_pendo(driver)"
   ]
  },
  {
   "cell_type": "code",
   "execution_count": null,
   "metadata": {},
   "outputs": [],
   "source": [
    "# 切换语言为英语以重用他人代码\n",
    "# 待完善提示\n",
    "wos_switch_english(driver)"
   ]
  },
  {
   "cell_type": "code",
   "execution_count": null,
   "metadata": {},
   "outputs": [],
   "source": [
    "# 跳转到高级查询界面\n",
    "wos_goto_advanced_search(driver)"
   ]
  },
  {
   "cell_type": "code",
   "execution_count": null,
   "metadata": {},
   "outputs": [],
   "source": [
    "# 参考注释选择性执行\n",
    "\n",
    "# 如有弹窗《Are you getting the most out of the Web of Science?》\n",
    "# 则执行本代码块关闭，亦可手动关闭弹窗\n",
    "wos_close_pendo(driver)"
   ]
  },
  {
   "cell_type": "code",
   "execution_count": null,
   "metadata": {},
   "outputs": [],
   "source": [
    "# 填写查询内容，执行高级查询\n",
    "wos_advanced_search(driver, query=query_content)"
   ]
  },
  {
   "cell_type": "code",
   "execution_count": null,
   "metadata": {},
   "outputs": [],
   "source": [
    "# 从旧到新排序查询结果，以便后续增量更新，并确保后续查漏补缺下载时记录顺序一致性。\n",
    "wos_query_result_arrange(driver)"
   ]
  },
  {
   "cell_type": "code",
   "execution_count": null,
   "metadata": {},
   "outputs": [],
   "source": [
    "# 通过若干次“下”键，以留出导出内容类型选项显示空间\n",
    "random_scroll_partial(driver, ['down'], arrows=9)"
   ]
  },
  {
   "cell_type": "code",
   "execution_count": null,
   "metadata": {},
   "outputs": [],
   "source": [
    "# 批量下载查询结果\n",
    "# 下载过程中，不要手动滚动页面，否则会定位不准\n",
    "# 此处调用但下载完整性校验还未充分测试\n",
    "wos_download_contractor(\n",
    "  driver=driver,\n",
    "  start=1,\n",
    "  query_content=query_content,\n",
    "  download_task_log_path=download_task_log_path,\n",
    "  wos_download_path=wos_download_path)"
   ]
  },
  {
   "cell_type": "markdown",
   "metadata": {},
   "source": [
    "### 校验、迁移下载文件夹以归档下载任务"
   ]
  },
  {
   "cell_type": "code",
   "execution_count": null,
   "metadata": {},
   "outputs": [],
   "source": [
    "# 查看是否有失败记录\n",
    "aggregate_failed_records(\n",
    "  directory=download_task_log_path,\n",
    "  query_content=query_content,\n",
    "  file_prefix=\"task_details_\")"
   ]
  },
  {
   "cell_type": "code",
   "execution_count": null,
   "metadata": {},
   "outputs": [],
   "source": [
    "# 查找下载路径中指定期刊的引文和日志文件，并转移到指定路径\n",
    "# 只支持 \"SO=(Journal of Hazardous Materials)\" 形式的期刊名称提取\n",
    "journal_name = extract_content(query_content) \n",
    "find_and_move_files(\n",
    "  source_path=wos_download_path,\n",
    "  target_path=\"\",\n",
    "  journal_name=journal_name)"
   ]
  },
  {
   "cell_type": "markdown",
   "metadata": {},
   "source": [
    "### 干净退出本次自动化下载浏览器实例"
   ]
  },
  {
   "cell_type": "code",
   "execution_count": 15,
   "metadata": {},
   "outputs": [],
   "source": [
    "driver.quit()"
   ]
  }
 ],
 "metadata": {
  "kernelspec": {
   "display_name": "Python 3.11.4 ('base')",
   "language": "python",
   "name": "python3"
  },
  "language_info": {
   "codemirror_mode": {
    "name": "ipython",
    "version": 3
   },
   "file_extension": ".py",
   "mimetype": "text/x-python",
   "name": "python",
   "nbconvert_exporter": "python",
   "pygments_lexer": "ipython3",
   "version": "3.9.13"
  },
  "orig_nbformat": 4,
  "vscode": {
   "interpreter": {
    "hash": "67bfac4f4aefe1c16f1836a62d55b6e6baa7aba1ac5ce70e93ee8e90eb4f073a"
   }
  }
 },
 "nbformat": 4,
 "nbformat_minor": 2
}
